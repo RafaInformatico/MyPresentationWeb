{
  "nbformat": 4,
  "nbformat_minor": 0,
  "metadata": {
    "colab": {
      "name": "Rafael García - AG1.ipynb",
      "provenance": [],
      "include_colab_link": true
    },
    "kernelspec": {
      "name": "python3",
      "display_name": "Python 3"
    }
  },
  "cells": [
    {
      "cell_type": "markdown",
      "metadata": {
        "id": "view-in-github",
        "colab_type": "text"
      },
      "source": [
        "<a href=\"https://colab.research.google.com/github/RafaInformatico/MyPresentationWeb/blob/master/Rafael_Garc%C3%ADa_AG1.ipynb\" target=\"_parent\"><img src=\"https://colab.research.google.com/assets/colab-badge.svg\" alt=\"Open In Colab\"/></a>"
      ]
    },
    {
      "cell_type": "markdown",
      "metadata": {
        "id": "EjmH-465Z3cb",
        "colab_type": "text"
      },
      "source": [
        "# Actividad guiada 1\n",
        "\n",
        "# Rafael García\n",
        "\n",
        "https://colab.research.google.com/drive/11zYQ09Wsyq5M9bt92VGUfWMlma_QHkMt#scrollTo=EjmH-465Z3cb\n",
        "\n",
        "Enlace a Github"
      ]
    },
    {
      "cell_type": "markdown",
      "metadata": {
        "id": "o-QvzPZ6jRXP",
        "colab_type": "text"
      },
      "source": [
        "Decorador"
      ]
    },
    {
      "cell_type": "code",
      "metadata": {
        "id": "WGWNAv6BRn4-",
        "colab_type": "code",
        "colab": {}
      },
      "source": [
        "from functools import wraps\n",
        "from time import time\n",
        "\n",
        "def calcular_tiempo(f):\n",
        "    @wraps(f)\n",
        "    def cronometro(*args, **kwargs):\n",
        "        t_inicial = time()\n",
        "        salida = f(*args, **kwargs)\n",
        "        t_final = time()\n",
        "        print('Tiempo transcurrido (en segundos): {}'.format(t_final - t_inicial))\n",
        "        return salida\n",
        "    return cronometro"
      ],
      "execution_count": 0,
      "outputs": []
    },
    {
      "cell_type": "markdown",
      "metadata": {
        "id": "qUm5JHJ3jLCD",
        "colab_type": "text"
      },
      "source": [
        "Quick sort"
      ]
    },
    {
      "cell_type": "code",
      "metadata": {
        "id": "GSYBg7UzbnR3",
        "colab_type": "code",
        "outputId": "1bf7c990-87ad-41b7-b8ff-727631577281",
        "colab": {
          "base_uri": "https://localhost:8080/",
          "height": 34
        }
      },
      "source": [
        "def quick_sort(A):\n",
        "  if len(A) <= 1:\n",
        "    return A\n",
        "  \n",
        "  if len(A) == 2:\n",
        "    return [min(A),max(A)]\n",
        "  \n",
        "  pivote = (A[0] + A[1] + A[2])/3\n",
        "  izquierda = []\n",
        "  derecha = []\n",
        "  \n",
        "  for i in A:\n",
        "    if i <= pivote:\n",
        "      izquierda.append(i)\n",
        "    else:\n",
        "      derecha.append(i)\n",
        "      \n",
        "  return quick_sort(izquierda) + quick_sort(derecha)\n",
        "  \n",
        "# Unit tests\n",
        "assert quick_sort([1]) == [1], quick_sort([1])\n",
        "assert quick_sort([1,2]) == [1,2], quick_sort([1,2])\n",
        "assert quick_sort([2,1]) == [1,2], quick_sort([2,1])\n",
        "assert quick_sort([3,2,1]) == [1,2,3], quick_sort([3,2,1])\n",
        "assert quick_sort([4,3,2,1]) == [1,2,3,4], quick_sort([4,3,2,1])\n",
        "assert quick_sort([3,3,2,1]) == [1,2,3,3], quick_sort([3,3,2,1])\n",
        "assert quick_sort([-4,3,2,1]) == [-4,1,2,3], quick_sort([4,3,2,1])\n",
        "print('Tests OK')"
      ],
      "execution_count": 0,
      "outputs": [
        {
          "output_type": "stream",
          "text": [
            "Tests OK\n"
          ],
          "name": "stdout"
        }
      ]
    },
    {
      "cell_type": "code",
      "metadata": {
        "id": "tnN_TYszbLq7",
        "colab_type": "code",
        "colab": {}
      },
      "source": [
        "A = [9187, 244, 4054, 9222, 8373, 4993, 5265, 5470, 4519, 7182, 2035, 3506, 4337, 7580, 2554, 2824, 8357, 4447, 7379]"
      ],
      "execution_count": 0,
      "outputs": []
    },
    {
      "cell_type": "code",
      "metadata": {
        "id": "_kKZqW-2cGQu",
        "colab_type": "code",
        "outputId": "0f8d60f1-2a21-4d78-a028-755a777f7867",
        "colab": {
          "base_uri": "https://localhost:8080/",
          "height": 34
        }
      },
      "source": [
        "%timeit quick_sort(A)"
      ],
      "execution_count": 0,
      "outputs": [
        {
          "output_type": "stream",
          "text": [
            "10000 loops, best of 3: 24.7 µs per loop\n"
          ],
          "name": "stdout"
        }
      ]
    },
    {
      "cell_type": "markdown",
      "metadata": {
        "id": "QmEXyC0ighpF",
        "colab_type": "text"
      },
      "source": [
        "Cambio de monedas"
      ]
    },
    {
      "cell_type": "code",
      "metadata": {
        "id": "6IM8wS8ogfoO",
        "colab_type": "code",
        "outputId": "fadc60ee-6cba-4181-f136-f83d08d32813",
        "colab": {
          "base_uri": "https://localhost:8080/",
          "height": 34
        }
      },
      "source": [
        "def cambio_monedas(cantidad, sistema):\n",
        "  solucion = [0 for i in range(len(sistema))]\n",
        "  acumulado = 0\n",
        "  \n",
        "  for i in range(len(sistema)):\n",
        "    monedas = int((cantidad - acumulado) / sistema[i])\n",
        "    solucion[i] = monedas\n",
        "    acumulado += monedas * sistema[i]\n",
        "    if acumulado == cantidad:\n",
        "      return solucion\n",
        " \n",
        "\n",
        "# Unit tests\n",
        "assert cambio_monedas(50, [1]) == [50], cambio_monedas(50, [1])\n",
        "assert cambio_monedas(50, [2, 1]) == [25, 0], cambio_monedas(50, [2, 1])\n",
        "print('Tests OK')"
      ],
      "execution_count": 0,
      "outputs": [
        {
          "output_type": "stream",
          "text": [
            "Tests OK\n"
          ],
          "name": "stdout"
        }
      ]
    },
    {
      "cell_type": "code",
      "metadata": {
        "id": "Yj6Ew4MLeOqh",
        "colab_type": "code",
        "outputId": "a787f47b-e0bc-4ed6-e6c7-199f93f9d735",
        "colab": {
          "base_uri": "https://localhost:8080/",
          "height": 34
        }
      },
      "source": [
        "SISTEMA = [25, 10, 5, 1]\n",
        "\n",
        "print('Sistema:', end=' ')\n",
        "print(SISTEMA, end=' ')  \n",
        "print('Solución:', end=' ')\n",
        "print(cambio_monedas(123, SISTEMA))"
      ],
      "execution_count": 0,
      "outputs": [
        {
          "output_type": "stream",
          "text": [
            "Sistema: [25, 10, 5, 1] Solución: [4, 2, 0, 3]\n"
          ],
          "name": "stdout"
        }
      ]
    },
    {
      "cell_type": "code",
      "metadata": {
        "id": "ykZeDYVbkpGX",
        "colab_type": "code",
        "outputId": "1511d268-ea65-4f7e-c560-d2f1f565409d",
        "colab": {
          "base_uri": "https://localhost:8080/",
          "height": 34
        }
      },
      "source": [
        "@calcular_tiempo\n",
        "def funcion_para_decorador():\n",
        "  cambio_monedas(123, SISTEMA)\n",
        "  \n",
        "funcion_para_decorador()"
      ],
      "execution_count": 0,
      "outputs": [
        {
          "output_type": "stream",
          "text": [
            "Tiempo transcurrido (en segundos): 1.1682510375976562e-05\n"
          ],
          "name": "stdout"
        }
      ]
    },
    {
      "cell_type": "code",
      "metadata": {
        "id": "FbKqUicDkisC",
        "colab_type": "code",
        "outputId": "5fe9cd3e-2f0a-4de3-d330-45c397a6493e",
        "colab": {
          "base_uri": "https://localhost:8080/",
          "height": 51
        }
      },
      "source": [
        "%timeit cambio_monedas(123, SISTEMA)"
      ],
      "execution_count": 0,
      "outputs": [
        {
          "output_type": "stream",
          "text": [
            "The slowest run took 5.15 times longer than the fastest. This could mean that an intermediate result is being cached.\n",
            "100000 loops, best of 3: 2.62 µs per loop\n"
          ],
          "name": "stdout"
        }
      ]
    },
    {
      "cell_type": "markdown",
      "metadata": {
        "id": "0eNbFSbrjA0r",
        "colab_type": "text"
      },
      "source": [
        "Problema de las 4 reinas"
      ]
    },
    {
      "cell_type": "code",
      "metadata": {
        "id": "eN5EXLGqmWRE",
        "colab_type": "code",
        "colab": {}
      },
      "source": [
        "def es_prometedora(solucion, etapa):\n",
        "  \n",
        "  for i in range(etapa + 1):\n",
        "    if solucion.count(solucion[i]) > 1:\n",
        "      return False\n",
        "    \n",
        "    for j in range(i + 1, etapa + 1):\n",
        "      if abs(i + j) == abs(solucion[i] - solucion[j]):\n",
        "        return False\n",
        "      \n",
        "  return True"
      ],
      "execution_count": 0,
      "outputs": []
    },
    {
      "cell_type": "code",
      "metadata": {
        "id": "dE-Yh0sKii2t",
        "colab_type": "code",
        "outputId": "8e46bacd-678a-49ae-d6f9-5ffbf303cb8b",
        "colab": {
          "base_uri": "https://localhost:8080/",
          "height": 197
        }
      },
      "source": [
        "def reinas(n, solucion, etapa = 0):\n",
        "  \n",
        "  if len(solucion) == 0:\n",
        "    solucion = [0 for i in range(n)]\n",
        "  \n",
        "  for i in range(1, n + 1):\n",
        "    solucion[etapa] = i\n",
        "    \n",
        "    if es_prometedora(solucion, etapa):\n",
        "      if etapa != n - 1:\n",
        "        reinas(n, solucion, etapa + 1)\n",
        "    \n",
        "# Unit tests\n",
        "solucion = []\n",
        "reinas(1, solucion)\n",
        "assert solucion == [1], solucion"
      ],
      "execution_count": 0,
      "outputs": [
        {
          "output_type": "error",
          "ename": "AssertionError",
          "evalue": "ignored",
          "traceback": [
            "\u001b[0;31m---------------------------------------------------------------------------\u001b[0m",
            "\u001b[0;31mAssertionError\u001b[0m                            Traceback (most recent call last)",
            "\u001b[0;32m<ipython-input-72-423b6f22c0b4>\u001b[0m in \u001b[0;36m<module>\u001b[0;34m()\u001b[0m\n\u001b[1;32m     14\u001b[0m \u001b[0msolucion\u001b[0m \u001b[0;34m=\u001b[0m \u001b[0;34m[\u001b[0m\u001b[0;34m]\u001b[0m\u001b[0;34m\u001b[0m\u001b[0;34m\u001b[0m\u001b[0m\n\u001b[1;32m     15\u001b[0m \u001b[0mreinas\u001b[0m\u001b[0;34m(\u001b[0m\u001b[0;36m1\u001b[0m\u001b[0;34m,\u001b[0m \u001b[0msolucion\u001b[0m\u001b[0;34m)\u001b[0m\u001b[0;34m\u001b[0m\u001b[0;34m\u001b[0m\u001b[0m\n\u001b[0;32m---> 16\u001b[0;31m \u001b[0;32massert\u001b[0m \u001b[0msolucion\u001b[0m \u001b[0;34m==\u001b[0m \u001b[0;34m[\u001b[0m\u001b[0;36m1\u001b[0m\u001b[0;34m]\u001b[0m\u001b[0;34m,\u001b[0m \u001b[0msolucion\u001b[0m\u001b[0;34m\u001b[0m\u001b[0;34m\u001b[0m\u001b[0m\n\u001b[0m",
            "\u001b[0;31mAssertionError\u001b[0m: []"
          ]
        }
      ]
    },
    {
      "cell_type": "code",
      "metadata": {
        "id": "gPksBunFnD50",
        "colab_type": "code",
        "colab": {}
      },
      "source": [
        ""
      ],
      "execution_count": 0,
      "outputs": []
    }
  ]
}